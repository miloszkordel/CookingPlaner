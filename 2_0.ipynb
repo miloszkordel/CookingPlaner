{
  "nbformat": 4,
  "nbformat_minor": 5,
  "metadata": {
    "kernelspec": {
      "display_name": "Python 3",
      "language": "python",
      "name": "python3"
    },
    "language_info": {
      "codemirror_mode": {
        "name": "ipython",
        "version": 3
      },
      "file_extension": ".py",
      "mimetype": "text/x-python",
      "name": "python",
      "nbconvert_exporter": "python",
      "pygments_lexer": "ipython3",
      "version": "3.8.8"
    },
    "colab": {
      "name": "2.0.ipynb",
      "provenance": [],
      "include_colab_link": true
    }
  },
  "cells": [
    {
      "cell_type": "markdown",
      "metadata": {
        "id": "view-in-github",
        "colab_type": "text"
      },
      "source": [
        "<a href=\"https://colab.research.google.com/github/miloszkordel/CookingPlaner/blob/main/2_0.ipynb\" target=\"_parent\"><img src=\"https://colab.research.google.com/assets/colab-badge.svg\" alt=\"Open In Colab\"/></a>"
      ]
    },
    {
      "cell_type": "code",
      "metadata": {
        "id": "f5355a41"
      },
      "source": [
        "'''Data analyze library'''\n",
        "import pandas as pd\n",
        "\n",
        "def pokaz_ilosc(portions,dish):\n",
        "    '''\n",
        "    input: \n",
        "    \n",
        "    n_portions = number of portions\n",
        "    n_dish = the dish ID number\n",
        "\n",
        "    returns: \n",
        "    \n",
        "    amount of each ingredient\n",
        "\n",
        "    '''\n",
        "    print('DANIE: '+baza.iloc[dish-1][1]+'   LICZBA PORCJI: '+str(portions))\n",
        "    for i in range(8):\n",
        "        print(baza.columns[3+i], ': ', portions*baza.iloc[dish-1][3+i], ' g')\n",
        "\n",
        "if __name__ == '__main__':\n",
        "    \n",
        "    baza = pd.read_excel('data/przepisy_baza.xlsx')\n",
        "    print(\"Witamy w naszym CookingPlanner!\")\n",
        "    n_portions = int(input('Podaj ilosc porcji: '))\n",
        "    n_dish = int(input('Podaj numer dania: '))\n",
        "    print('Oto czego potrzebujesz: ')\n",
        "    pokaz_ilosc(n_portions,n_dish)"
      ],
      "id": "f5355a41",
      "execution_count": null,
      "outputs": []
    },
    {
      "cell_type": "markdown",
      "metadata": {
        "id": "-dDZp_UL4rKk"
      },
      "source": [
        ""
      ],
      "id": "-dDZp_UL4rKk"
    },
    {
      "cell_type": "markdown",
      "metadata": {
        "id": "-OiZiMo8yHoX"
      },
      "source": [
        "# Nowa sekcja"
      ],
      "id": "-OiZiMo8yHoX"
    }
  ]
}